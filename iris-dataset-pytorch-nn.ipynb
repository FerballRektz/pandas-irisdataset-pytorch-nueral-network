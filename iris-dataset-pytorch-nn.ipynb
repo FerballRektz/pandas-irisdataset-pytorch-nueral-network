{
 "cells": [
  {
   "cell_type": "code",
   "execution_count": 12,
   "metadata": {},
   "outputs": [],
   "source": [
    "import numpy as numpy\n",
    "import pandas as pd\n",
    "import torch \n",
    "import torch.nn as nn\n",
    "import torch.nn.functional as f\n",
    "from sklearn.model_selection import train_test_split"
   ]
  },
  {
   "cell_type": "code",
   "execution_count": 3,
   "metadata": {},
   "outputs": [],
   "source": [
    "link = \"https://gist.githubusercontent.com/netj/8836201/raw/6f9306ad21398ea43cba4f7d537619d0e07d5ae3/iris.csv\"\n",
    "df = pd.read_csv(link)"
   ]
  },
  {
   "cell_type": "code",
   "execution_count": 11,
   "metadata": {},
   "outputs": [
    {
     "data": {
      "text/html": [
       "<div>\n",
       "<style scoped>\n",
       "    .dataframe tbody tr th:only-of-type {\n",
       "        vertical-align: middle;\n",
       "    }\n",
       "\n",
       "    .dataframe tbody tr th {\n",
       "        vertical-align: top;\n",
       "    }\n",
       "\n",
       "    .dataframe thead th {\n",
       "        text-align: right;\n",
       "    }\n",
       "</style>\n",
       "<table border=\"1\" class=\"dataframe\">\n",
       "  <thead>\n",
       "    <tr style=\"text-align: right;\">\n",
       "      <th></th>\n",
       "      <th>sepal.length</th>\n",
       "      <th>sepal.width</th>\n",
       "      <th>petal.length</th>\n",
       "      <th>petal.width</th>\n",
       "      <th>variety</th>\n",
       "    </tr>\n",
       "  </thead>\n",
       "  <tbody>\n",
       "    <tr>\n",
       "      <th>0</th>\n",
       "      <td>5.1</td>\n",
       "      <td>3.5</td>\n",
       "      <td>1.4</td>\n",
       "      <td>0.2</td>\n",
       "      <td>Setosa</td>\n",
       "    </tr>\n",
       "    <tr>\n",
       "      <th>1</th>\n",
       "      <td>4.9</td>\n",
       "      <td>3.0</td>\n",
       "      <td>1.4</td>\n",
       "      <td>0.2</td>\n",
       "      <td>Setosa</td>\n",
       "    </tr>\n",
       "    <tr>\n",
       "      <th>2</th>\n",
       "      <td>4.7</td>\n",
       "      <td>3.2</td>\n",
       "      <td>1.3</td>\n",
       "      <td>0.2</td>\n",
       "      <td>Setosa</td>\n",
       "    </tr>\n",
       "    <tr>\n",
       "      <th>3</th>\n",
       "      <td>4.6</td>\n",
       "      <td>3.1</td>\n",
       "      <td>1.5</td>\n",
       "      <td>0.2</td>\n",
       "      <td>Setosa</td>\n",
       "    </tr>\n",
       "    <tr>\n",
       "      <th>4</th>\n",
       "      <td>5.0</td>\n",
       "      <td>3.6</td>\n",
       "      <td>1.4</td>\n",
       "      <td>0.2</td>\n",
       "      <td>Setosa</td>\n",
       "    </tr>\n",
       "  </tbody>\n",
       "</table>\n",
       "</div>"
      ],
      "text/plain": [
       "   sepal.length  sepal.width  petal.length  petal.width variety\n",
       "0           5.1          3.5           1.4          0.2  Setosa\n",
       "1           4.9          3.0           1.4          0.2  Setosa\n",
       "2           4.7          3.2           1.3          0.2  Setosa\n",
       "3           4.6          3.1           1.5          0.2  Setosa\n",
       "4           5.0          3.6           1.4          0.2  Setosa"
      ]
     },
     "execution_count": 11,
     "metadata": {},
     "output_type": "execute_result"
    }
   ],
   "source": [
    "df.head()"
   ]
  },
  {
   "cell_type": "code",
   "execution_count": 6,
   "metadata": {},
   "outputs": [
    {
     "data": {
      "text/plain": [
       "Index(['sepal.length', 'sepal.width', 'petal.length', 'petal.width',\n",
       "       'variety'],\n",
       "      dtype='object')"
      ]
     },
     "execution_count": 6,
     "metadata": {},
     "output_type": "execute_result"
    }
   ],
   "source": [
    "df.columns"
   ]
  },
  {
   "cell_type": "code",
   "execution_count": 5,
   "metadata": {},
   "outputs": [
    {
     "data": {
      "text/plain": [
       "array(['Setosa', 'Versicolor', 'Virginica'], dtype=object)"
      ]
     },
     "execution_count": 5,
     "metadata": {},
     "output_type": "execute_result"
    }
   ],
   "source": [
    "df[\"variety\"].unique()"
   ]
  },
  {
   "cell_type": "code",
   "execution_count": 44,
   "metadata": {},
   "outputs": [],
   "source": [
    "X_values = torch.Tensor(df.drop(\"variety\", axis= 1).copy().values)\n",
    "Y_values = torch.LongTensor(pd.Categorical(df[\"variety\"].copy()).codes)"
   ]
  },
  {
   "cell_type": "code",
   "execution_count": 52,
   "metadata": {},
   "outputs": [],
   "source": [
    "X_train, x_test , Y_train, y_test = train_test_split(X_values,Y_values,test_size= 0.2)"
   ]
  },
  {
   "cell_type": "code",
   "execution_count": 73,
   "metadata": {},
   "outputs": [],
   "source": [
    "class My_Neural(nn.Module):\n",
    "    def __init__(self :object , input_layer :int = 4, layer1 :int = 6, layer2 :int = 6, output_layer :int = 3) -> object:\n",
    "        super().__init__()\n",
    "        self.fc1 = nn.Linear(input_layer,layer1)\n",
    "        self.fc2 = nn.Linear(layer1,layer2)\n",
    "        self.out = nn.Linear(layer2,output_layer)\n",
    "    def forward(self :object, X :object):\n",
    "        x = f.relu(self.fc1(X))\n",
    "        x = f.relu(self.fc2(x))\n",
    "        x = self.out(x)\n",
    "        return x\n",
    "\n",
    "        "
   ]
  },
  {
   "cell_type": "code",
   "execution_count": 74,
   "metadata": {},
   "outputs": [],
   "source": [
    "model =  My_Neural()"
   ]
  },
  {
   "cell_type": "code",
   "execution_count": 75,
   "metadata": {},
   "outputs": [],
   "source": [
    "criterion = nn.CrossEntropyLoss()\n",
    "optimizer = torch.optim.Adam(model.parameters(),lr= 0.01)"
   ]
  },
  {
   "cell_type": "code",
   "execution_count": 76,
   "metadata": {},
   "outputs": [
    {
     "name": "stdout",
     "output_type": "stream",
     "text": [
      "Epoch 0, loss: 1.0380027294158936\n",
      "Epoch 10, loss: 0.7694624662399292\n",
      "Epoch 20, loss: 0.5084032416343689\n",
      "Epoch 30, loss: 0.3543625473976135\n",
      "Epoch 40, loss: 0.24952150881290436\n",
      "Epoch 50, loss: 0.16593243181705475\n",
      "Epoch 60, loss: 0.11307654529809952\n",
      "Epoch 70, loss: 0.0862855538725853\n",
      "Epoch 80, loss: 0.07311554253101349\n",
      "Epoch 90, loss: 0.06612096726894379\n"
     ]
    }
   ],
   "source": [
    "epoch :int = 100\n",
    "loss_list :list = list() \n",
    "for i in range(epoch):\n",
    "    y_pred = model.forward(X_train)\n",
    "    loss = criterion(y_pred,Y_train)\n",
    "    loss_list.append(loss)\n",
    "    if i % 10 == 0:\n",
    "        print(f\"Epoch {i}, loss: {loss}\")\n",
    "\n",
    "    optimizer.zero_grad()\n",
    "    loss.backward()\n",
    "    optimizer.step()"
   ]
  },
  {
   "cell_type": "code",
   "execution_count": 77,
   "metadata": {},
   "outputs": [
    {
     "data": {
      "text/plain": [
       "tensor(0.0604)"
      ]
     },
     "execution_count": 77,
     "metadata": {},
     "output_type": "execute_result"
    }
   ],
   "source": [
    "with torch.no_grad():\n",
    "    y_eval =  model.forward(x_test)\n",
    "    loss_eval = criterion(y_eval,y_test)\n",
    "\n",
    "loss_eval"
   ]
  },
  {
   "cell_type": "code",
   "execution_count": 94,
   "metadata": {},
   "outputs": [
    {
     "name": "stdout",
     "output_type": "stream",
     "text": [
      "index1: y_test:2 y_pred:2 correct?:1\n",
      "index2: y_test:2 y_pred:2 correct?:1\n",
      "index3: y_test:2 y_pred:2 correct?:1\n",
      "index4: y_test:1 y_pred:1 correct?:1\n",
      "index5: y_test:0 y_pred:0 correct?:1\n",
      "index6: y_test:2 y_pred:2 correct?:1\n",
      "index7: y_test:0 y_pred:0 correct?:1\n",
      "index8: y_test:1 y_pred:1 correct?:1\n",
      "index9: y_test:2 y_pred:2 correct?:1\n",
      "index10: y_test:2 y_pred:2 correct?:1\n",
      "index11: y_test:1 y_pred:1 correct?:1\n",
      "index12: y_test:1 y_pred:1 correct?:1\n",
      "index13: y_test:2 y_pred:2 correct?:1\n",
      "index14: y_test:0 y_pred:0 correct?:1\n",
      "index15: y_test:0 y_pred:0 correct?:1\n",
      "index16: y_test:1 y_pred:1 correct?:1\n",
      "index17: y_test:2 y_pred:2 correct?:1\n",
      "index18: y_test:1 y_pred:1 correct?:1\n",
      "index19: y_test:1 y_pred:1 correct?:1\n",
      "index20: y_test:0 y_pred:0 correct?:1\n",
      "index21: y_test:2 y_pred:2 correct?:1\n",
      "index22: y_test:2 y_pred:2 correct?:1\n",
      "index23: y_test:0 y_pred:0 correct?:1\n",
      "index24: y_test:2 y_pred:2 correct?:1\n",
      "index25: y_test:0 y_pred:0 correct?:1\n",
      "index26: y_test:1 y_pred:1 correct?:1\n",
      "index27: y_test:1 y_pred:1 correct?:1\n",
      "index28: y_test:1 y_pred:1 correct?:1\n",
      "index29: y_test:2 y_pred:2 correct?:1\n",
      "index30: y_test:2 y_pred:2 correct?:1\n",
      "total correct: 30 length: 30\n"
     ]
    }
   ],
   "source": [
    "correct_list :list  = list()\n",
    "for index, data in enumerate(x_test):\n",
    "    y_val = model.forward(data)\n",
    "    test :int\n",
    "    if y_val.argmax().item() == y_test[index]:\n",
    "        test = 1\n",
    "        correct_list.append(test)\n",
    "    else:\n",
    "        test = 0\n",
    "        correct_list.append(test)\n",
    "    print(f\"index{index+1}: y_test:{y_test[index]} y_pred:{y_val.argmax().item()} correct?:{test}\")\n",
    "print(f\"total correct: {numpy.sum(correct_list)} length: {index+1}\")"
   ]
  }
 ],
 "metadata": {
  "kernelspec": {
   "display_name": "data_science_3_12_8",
   "language": "python",
   "name": "python3"
  },
  "language_info": {
   "codemirror_mode": {
    "name": "ipython",
    "version": 3
   },
   "file_extension": ".py",
   "mimetype": "text/x-python",
   "name": "python",
   "nbconvert_exporter": "python",
   "pygments_lexer": "ipython3",
   "version": "3.12.8"
  }
 },
 "nbformat": 4,
 "nbformat_minor": 2
}
